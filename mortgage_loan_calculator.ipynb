{
 "cells": [
  {
   "cell_type": "code",
   "execution_count": 1,
   "id": "ef394770",
   "metadata": {},
   "outputs": [
    {
     "name": "stdout",
     "output_type": "stream",
     "text": [
      "What amount of money do you need:1000000\n",
      "Interest : ¢0.01\n",
      "-----------------------\n",
      "Monthly_Payments : ¢6289.06\n",
      " Total_amount_to_be_paid: ¢2264062.50\n"
     ]
    }
   ],
   "source": [
    "#Mortgage Loan Calculator\n",
    "\n",
    "#Mortgage loan Principal\n",
    "Principal=float(input('What amount of money do you need:'))\n",
    "\n",
    "#Percent Monthly interest\n",
    "Interest=0.075/12\n",
    "\n",
    "             \n",
    "#Years to pay off mortage\n",
    "years=30\n",
    "\n",
    "#Total number of months to pay loan\n",
    "Months=years * 12\n",
    "\n",
    "#calculating loan Payment\n",
    "Monthly_Payments = Principal*(Interest*( 1 + Interest)**(Months)) / (( 1 + Interest))**(Months-1)\n",
    "\n",
    "Total_amount_to_be_paid=Monthly_Payments*360\n",
    "\n",
    "#Displaying results\n",
    "print(\"Interest : ¢{:.2f}\".format(Interest))\n",
    "print('-----------------------')\n",
    "print(\"Monthly_Payments : ¢{:.2f}\".format(Monthly_Payments))\n",
    "print(\" Total_amount_to_be_paid: ¢{:.2f}\".format(Total_amount_to_be_paid))\n"
   ]
  },
  {
   "cell_type": "code",
   "execution_count": null,
   "id": "59086057",
   "metadata": {},
   "outputs": [],
   "source": []
  }
 ],
 "metadata": {
  "kernelspec": {
   "display_name": "Python 3 (ipykernel)",
   "language": "python",
   "name": "python3"
  },
  "language_info": {
   "codemirror_mode": {
    "name": "ipython",
    "version": 3
   },
   "file_extension": ".py",
   "mimetype": "text/x-python",
   "name": "python",
   "nbconvert_exporter": "python",
   "pygments_lexer": "ipython3",
   "version": "3.9.13"
  }
 },
 "nbformat": 4,
 "nbformat_minor": 5
}
